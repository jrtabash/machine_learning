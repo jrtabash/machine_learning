{
 "cells": [
  {
   "cell_type": "code",
   "execution_count": 1,
   "metadata": {},
   "outputs": [],
   "source": [
    "import plot_utils\n",
    "%matplotlib inline"
   ]
  },
  {
   "cell_type": "code",
   "execution_count": 2,
   "metadata": {},
   "outputs": [],
   "source": [
    "from sklearn.metrics import r2_score, mean_squared_error"
   ]
  },
  {
   "cell_type": "code",
   "execution_count": 3,
   "metadata": {},
   "outputs": [],
   "source": [
    "%run dow_jones_index.py"
   ]
  },
  {
   "cell_type": "code",
   "execution_count": 4,
   "metadata": {},
   "outputs": [],
   "source": [
    "# xl := X_learn\n",
    "# xt := X_test\n",
    "# yl := y_learn\n",
    "# yt := y_test\n",
    "xl, xt, yl, yt = getDataForTesting(makeDowJonesColumns(week=False, \n",
    "                                                       stock=False, \n",
    "                                                       prices=False, \n",
    "                                                       volume=True, \n",
    "                                                       percent=True, \n",
    "                                                       derived=True), \n",
    "                                   scale=\"minmax\", \n",
    "                                   components=None, \n",
    "                                   filterSameDirection=None)"
   ]
  },
  {
   "cell_type": "code",
   "execution_count": 5,
   "metadata": {},
   "outputs": [
    {
     "data": {
      "text/html": [
       "<div>\n",
       "<style scoped>\n",
       "    .dataframe tbody tr th:only-of-type {\n",
       "        vertical-align: middle;\n",
       "    }\n",
       "\n",
       "    .dataframe tbody tr th {\n",
       "        vertical-align: top;\n",
       "    }\n",
       "\n",
       "    .dataframe thead th {\n",
       "        text-align: right;\n",
       "    }\n",
       "</style>\n",
       "<table border=\"1\" class=\"dataframe\">\n",
       "  <thead>\n",
       "    <tr style=\"text-align: right;\">\n",
       "      <th></th>\n",
       "      <th>volume</th>\n",
       "      <th>percent_change_price</th>\n",
       "      <th>percent_change_high</th>\n",
       "      <th>percent_change_low</th>\n",
       "    </tr>\n",
       "  </thead>\n",
       "  <tbody>\n",
       "    <tr>\n",
       "      <th>0</th>\n",
       "      <td>0.158692</td>\n",
       "      <td>0.833841</td>\n",
       "      <td>0.714188</td>\n",
       "      <td>0.984027</td>\n",
       "    </tr>\n",
       "    <tr>\n",
       "      <th>1</th>\n",
       "      <td>0.160985</td>\n",
       "      <td>0.477092</td>\n",
       "      <td>0.000000</td>\n",
       "      <td>0.595491</td>\n",
       "    </tr>\n",
       "    <tr>\n",
       "      <th>2</th>\n",
       "      <td>0.088528</td>\n",
       "      <td>0.562050</td>\n",
       "      <td>0.147327</td>\n",
       "      <td>0.769789</td>\n",
       "    </tr>\n",
       "    <tr>\n",
       "      <th>3</th>\n",
       "      <td>0.097505</td>\n",
       "      <td>0.740355</td>\n",
       "      <td>0.601192</td>\n",
       "      <td>0.980097</td>\n",
       "    </tr>\n",
       "    <tr>\n",
       "      <th>4</th>\n",
       "      <td>0.099590</td>\n",
       "      <td>0.926730</td>\n",
       "      <td>0.938823</td>\n",
       "      <td>1.000000</td>\n",
       "    </tr>\n",
       "  </tbody>\n",
       "</table>\n",
       "</div>"
      ],
      "text/plain": [
       "     volume  percent_change_price  percent_change_high  percent_change_low\n",
       "0  0.158692              0.833841             0.714188            0.984027\n",
       "1  0.160985              0.477092             0.000000            0.595491\n",
       "2  0.088528              0.562050             0.147327            0.769789\n",
       "3  0.097505              0.740355             0.601192            0.980097\n",
       "4  0.099590              0.926730             0.938823            1.000000"
      ]
     },
     "execution_count": 5,
     "metadata": {},
     "output_type": "execute_result"
    }
   ],
   "source": [
    "xl.head()"
   ]
  },
  {
   "cell_type": "code",
   "execution_count": 6,
   "metadata": {},
   "outputs": [
    {
     "data": {
      "text/html": [
       "<div>\n",
       "<style scoped>\n",
       "    .dataframe tbody tr th:only-of-type {\n",
       "        vertical-align: middle;\n",
       "    }\n",
       "\n",
       "    .dataframe tbody tr th {\n",
       "        vertical-align: top;\n",
       "    }\n",
       "\n",
       "    .dataframe thead th {\n",
       "        text-align: right;\n",
       "    }\n",
       "</style>\n",
       "<table border=\"1\" class=\"dataframe\">\n",
       "  <thead>\n",
       "    <tr style=\"text-align: right;\">\n",
       "      <th></th>\n",
       "      <th>percent_change_next_weeks_price</th>\n",
       "    </tr>\n",
       "  </thead>\n",
       "  <tbody>\n",
       "    <tr>\n",
       "      <th>0</th>\n",
       "      <td>-4.428490</td>\n",
       "    </tr>\n",
       "    <tr>\n",
       "      <th>1</th>\n",
       "      <td>-2.470660</td>\n",
       "    </tr>\n",
       "    <tr>\n",
       "      <th>2</th>\n",
       "      <td>1.638310</td>\n",
       "    </tr>\n",
       "    <tr>\n",
       "      <th>3</th>\n",
       "      <td>5.933250</td>\n",
       "    </tr>\n",
       "    <tr>\n",
       "      <th>4</th>\n",
       "      <td>0.230814</td>\n",
       "    </tr>\n",
       "  </tbody>\n",
       "</table>\n",
       "</div>"
      ],
      "text/plain": [
       "   percent_change_next_weeks_price\n",
       "0                        -4.428490\n",
       "1                        -2.470660\n",
       "2                         1.638310\n",
       "3                         5.933250\n",
       "4                         0.230814"
      ]
     },
     "execution_count": 6,
     "metadata": {},
     "output_type": "execute_result"
    }
   ],
   "source": [
    "yl.head()"
   ]
  },
  {
   "cell_type": "code",
   "execution_count": 7,
   "metadata": {},
   "outputs": [],
   "source": [
    "# sxl := X_learn segments\n",
    "# syl := y_learn segments\n",
    "sxl, syl = makeDowJonesSegments(xl.join(yl), \n",
    "                                1, \n",
    "                                3, \n",
    "                                xAggFtn=data_utils.makeSegRowAggFtn(np.mean, 4, 3), \n",
    "                                yAggFtn=data_utils.makeSegColAggFtn(np.mean, 4, 3))"
   ]
  },
  {
   "cell_type": "code",
   "execution_count": 8,
   "metadata": {},
   "outputs": [],
   "source": [
    "# sxt := X_test segments\n",
    "# syt := y_test segments\n",
    "sxt, syt = makeDowJonesSegments(xt.join(yt),\n",
    "                                1, \n",
    "                                3, \n",
    "                                xAggFtn=data_utils.makeSegRowAggFtn(np.mean, 4, 3), \n",
    "                                yAggFtn=data_utils.makeSegColAggFtn(np.mean, 4, 3))"
   ]
  },
  {
   "cell_type": "code",
   "execution_count": 9,
   "metadata": {},
   "outputs": [],
   "source": [
    "sxl = pd.DataFrame(sxl, columns=xl.columns)\n",
    "syl = pd.DataFrame(syl, columns=yl.columns)\n",
    "sxt = pd.DataFrame(sxt, columns=sxl.columns)\n",
    "syt = pd.DataFrame(syt, columns=syl.columns)"
   ]
  },
  {
   "cell_type": "code",
   "execution_count": 10,
   "metadata": {},
   "outputs": [
    {
     "data": {
      "text/html": [
       "<div>\n",
       "<style scoped>\n",
       "    .dataframe tbody tr th:only-of-type {\n",
       "        vertical-align: middle;\n",
       "    }\n",
       "\n",
       "    .dataframe tbody tr th {\n",
       "        vertical-align: top;\n",
       "    }\n",
       "\n",
       "    .dataframe thead th {\n",
       "        text-align: right;\n",
       "    }\n",
       "</style>\n",
       "<table border=\"1\" class=\"dataframe\">\n",
       "  <thead>\n",
       "    <tr style=\"text-align: right;\">\n",
       "      <th></th>\n",
       "      <th>volume</th>\n",
       "      <th>percent_change_price</th>\n",
       "      <th>percent_change_high</th>\n",
       "      <th>percent_change_low</th>\n",
       "    </tr>\n",
       "  </thead>\n",
       "  <tbody>\n",
       "    <tr>\n",
       "      <th>0</th>\n",
       "      <td>0.136068</td>\n",
       "      <td>0.624328</td>\n",
       "      <td>0.287172</td>\n",
       "      <td>0.783103</td>\n",
       "    </tr>\n",
       "    <tr>\n",
       "      <th>1</th>\n",
       "      <td>0.115673</td>\n",
       "      <td>0.593166</td>\n",
       "      <td>0.249507</td>\n",
       "      <td>0.781792</td>\n",
       "    </tr>\n",
       "    <tr>\n",
       "      <th>2</th>\n",
       "      <td>0.095208</td>\n",
       "      <td>0.743045</td>\n",
       "      <td>0.562448</td>\n",
       "      <td>0.916629</td>\n",
       "    </tr>\n",
       "    <tr>\n",
       "      <th>3</th>\n",
       "      <td>0.089724</td>\n",
       "      <td>0.782121</td>\n",
       "      <td>0.549558</td>\n",
       "      <td>0.949623</td>\n",
       "    </tr>\n",
       "    <tr>\n",
       "      <th>4</th>\n",
       "      <td>0.073237</td>\n",
       "      <td>0.749274</td>\n",
       "      <td>0.418945</td>\n",
       "      <td>0.942938</td>\n",
       "    </tr>\n",
       "  </tbody>\n",
       "</table>\n",
       "</div>"
      ],
      "text/plain": [
       "     volume  percent_change_price  percent_change_high  percent_change_low\n",
       "0  0.136068              0.624328             0.287172            0.783103\n",
       "1  0.115673              0.593166             0.249507            0.781792\n",
       "2  0.095208              0.743045             0.562448            0.916629\n",
       "3  0.089724              0.782121             0.549558            0.949623\n",
       "4  0.073237              0.749274             0.418945            0.942938"
      ]
     },
     "execution_count": 10,
     "metadata": {},
     "output_type": "execute_result"
    }
   ],
   "source": [
    "sxl.head()"
   ]
  },
  {
   "cell_type": "code",
   "execution_count": 11,
   "metadata": {},
   "outputs": [
    {
     "data": {
      "text/html": [
       "<div>\n",
       "<style scoped>\n",
       "    .dataframe tbody tr th:only-of-type {\n",
       "        vertical-align: middle;\n",
       "    }\n",
       "\n",
       "    .dataframe tbody tr th {\n",
       "        vertical-align: top;\n",
       "    }\n",
       "\n",
       "    .dataframe thead th {\n",
       "        text-align: right;\n",
       "    }\n",
       "</style>\n",
       "<table border=\"1\" class=\"dataframe\">\n",
       "  <thead>\n",
       "    <tr style=\"text-align: right;\">\n",
       "      <th></th>\n",
       "      <th>percent_change_next_weeks_price</th>\n",
       "    </tr>\n",
       "  </thead>\n",
       "  <tbody>\n",
       "    <tr>\n",
       "      <th>0</th>\n",
       "      <td>-1.753613</td>\n",
       "    </tr>\n",
       "    <tr>\n",
       "      <th>1</th>\n",
       "      <td>1.700300</td>\n",
       "    </tr>\n",
       "    <tr>\n",
       "      <th>2</th>\n",
       "      <td>2.600791</td>\n",
       "    </tr>\n",
       "    <tr>\n",
       "      <th>3</th>\n",
       "      <td>1.843839</td>\n",
       "    </tr>\n",
       "    <tr>\n",
       "      <th>4</th>\n",
       "      <td>-0.722838</td>\n",
       "    </tr>\n",
       "  </tbody>\n",
       "</table>\n",
       "</div>"
      ],
      "text/plain": [
       "   percent_change_next_weeks_price\n",
       "0                        -1.753613\n",
       "1                         1.700300\n",
       "2                         2.600791\n",
       "3                         1.843839\n",
       "4                        -0.722838"
      ]
     },
     "execution_count": 11,
     "metadata": {},
     "output_type": "execute_result"
    }
   ],
   "source": [
    "syl.head()"
   ]
  },
  {
   "cell_type": "code",
   "execution_count": 12,
   "metadata": {},
   "outputs": [
    {
     "name": "stdout",
     "output_type": "stream",
     "text": [
      "findBestParams:\n",
      "  scoring=make_scorer(profitScore, greater_is_better=False, calcSign=False)\n",
      "  gammaRange=[1e-05, 0.0001, 0.001, 0.01, 0.1, 0.5]\n",
      "  cRange=[0.5, 0.7, 0.9, 1.0, 1.1, 1.2]\n",
      "  epsilonRange=[0.005, 0.007, 0.009, 0.01, 0.05, 0.09]\n",
      "  kernelRange=['poly', 'rbf']\n",
      "  coef0Range=[0.0]\n",
      "  degreeRange=[2, 3, 4, 5, 6]\n",
      "Fitting 3 folds for each of 2160 candidates, totalling 6480 fits\n"
     ]
    },
    {
     "name": "stderr",
     "output_type": "stream",
     "text": [
      "[Parallel(n_jobs=-1)]: Done 2272 tasks      | elapsed:    4.4s\n"
     ]
    },
    {
     "name": "stdout",
     "output_type": "stream",
     "text": [
      "findBestParams: best_params={'C': 1.2, 'coef0': 0.0, 'degree': 2, 'epsilon': 0.01, 'gamma': 0.5, 'kernel': 'rbf'}\n",
      "Estimator: SVR(C=1.2, cache_size=200, coef0=0.0, degree=2, epsilon=0.01, gamma=0.5,\n",
      "  kernel='rbf', max_iter=-1, shrinking=True, tol=0.001, verbose=False)\n",
      " Validation Scores: [-0.21581571 -0.11514041 -0.01273597]\n",
      "Validation Average: -0.11456403109074566\n"
     ]
    },
    {
     "name": "stderr",
     "output_type": "stream",
     "text": [
      "[Parallel(n_jobs=-1)]: Done 6480 out of 6480 | elapsed:   11.1s finished\n"
     ]
    }
   ],
   "source": [
    "model = findBestEstimator(sxl, \n",
    "                          syl, \n",
    "                          verbose=True, \n",
    "                          kernelRange=['poly', 'rbf'], \n",
    "                          degreeRange=[2, 3, 4, 5, 6], \n",
    "                          cRange=[0.5, 0.7, 0.9, 1.0, 1.1, 1.2], \n",
    "                          gammaRange=[0.00001, 0.0001, 0.001, 0.01, 0.1, 0.5], \n",
    "                          epsilonRange=[0.005, 0.007, 0.009, 0.01, 0.05, 0.09], \n",
    "                          validate=True, \n",
    "                          scoring=misc_utils.makeProfitLossFtn())"
   ]
  },
  {
   "cell_type": "code",
   "execution_count": 13,
   "metadata": {},
   "outputs": [
    {
     "data": {
      "text/plain": [
       "0.4803947529508497"
      ]
     },
     "execution_count": 13,
     "metadata": {},
     "output_type": "execute_result"
    }
   ],
   "source": [
    "misc_utils.profitScore(syl, model.predict(sxl))"
   ]
  },
  {
   "cell_type": "code",
   "execution_count": 14,
   "metadata": {},
   "outputs": [
    {
     "data": {
      "text/plain": [
       "0.007353034382421697"
      ]
     },
     "execution_count": 14,
     "metadata": {},
     "output_type": "execute_result"
    }
   ],
   "source": [
    "misc_utils.profitScore(syt, model.predict(sxt))"
   ]
  },
  {
   "cell_type": "code",
   "execution_count": 15,
   "metadata": {},
   "outputs": [
    {
     "data": {
      "text/plain": [
       "0.3283459101623265"
      ]
     },
     "execution_count": 15,
     "metadata": {},
     "output_type": "execute_result"
    }
   ],
   "source": [
    "r2_score(syt, model.predict(sxt))"
   ]
  },
  {
   "cell_type": "code",
   "execution_count": 16,
   "metadata": {},
   "outputs": [
    {
     "data": {
      "text/plain": [
       "1.7805672085207378"
      ]
     },
     "execution_count": 16,
     "metadata": {},
     "output_type": "execute_result"
    }
   ],
   "source": [
    "mean_squared_error(syt, model.predict(sxt))"
   ]
  },
  {
   "cell_type": "code",
   "execution_count": 17,
   "metadata": {},
   "outputs": [
    {
     "data": {
      "image/png": "[encoded data removed]",
      "text/plain": [
       "<Figure size 432x288 with 1 Axes>"
      ]
     },
     "metadata": {},
     "output_type": "display_data"
    }
   ],
   "source": [
    "plot_utils.plotPredictVsActual(model.predict(sxt), syt, overlay=True)"
   ]
  },
  {
   "cell_type": "code",
   "execution_count": null,
   "metadata": {},
   "outputs": [],
   "source": []
  }
 ],
 "metadata": {
  "kernelspec": {
   "display_name": "Python 3",
   "language": "python",
   "name": "python3"
  },
  "language_info": {
   "codemirror_mode": {
    "name": "ipython",
    "version": 3
   },
   "file_extension": ".py",
   "mimetype": "text/x-python",
   "name": "python",
   "nbconvert_exporter": "python",
   "pygments_lexer": "ipython3",
   "version": "3.6.5"
  }
 },
 "nbformat": 4,
 "nbformat_minor": 2
}
