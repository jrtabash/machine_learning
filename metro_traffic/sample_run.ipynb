{
 "cells": [
  {
   "cell_type": "code",
   "execution_count": 9,
   "metadata": {},
   "outputs": [],
   "source": [
    "%matplotlib inline\n",
    "\n",
    "%run metro_traffic.py"
   ]
  },
  {
   "cell_type": "code",
   "execution_count": 4,
   "metadata": {},
   "outputs": [],
   "source": [
    "xl, xt, yl, yt = getDataForNeuralNetworkModel(standardScaler=True, squashHoliday=False, dropDescription=True)"
   ]
  },
  {
   "cell_type": "code",
   "execution_count": 5,
   "metadata": {},
   "outputs": [
    {
     "data": {
      "text/plain": [
       "27"
      ]
     },
     "execution_count": 5,
     "metadata": {},
     "output_type": "execute_result"
    }
   ],
   "source": [
    "len(xl.columns)"
   ]
  },
  {
   "cell_type": "code",
   "execution_count": 6,
   "metadata": {},
   "outputs": [
    {
     "data": {
      "text/html": [
       "<div>\n",
       "<style scoped>\n",
       "    .dataframe tbody tr th:only-of-type {\n",
       "        vertical-align: middle;\n",
       "    }\n",
       "\n",
       "    .dataframe tbody tr th {\n",
       "        vertical-align: top;\n",
       "    }\n",
       "\n",
       "    .dataframe thead th {\n",
       "        text-align: right;\n",
       "    }\n",
       "</style>\n",
       "<table border=\"1\" class=\"dataframe\">\n",
       "  <thead>\n",
       "    <tr style=\"text-align: right;\">\n",
       "      <th></th>\n",
       "      <th>week_day</th>\n",
       "      <th>hour</th>\n",
       "      <th>temp</th>\n",
       "      <th>clouds_all</th>\n",
       "      <th>holiday_Christmas Day</th>\n",
       "      <th>holiday_Columbus Day</th>\n",
       "      <th>holiday_Independence Day</th>\n",
       "      <th>holiday_Labor Day</th>\n",
       "      <th>holiday_Martin Luther King Jr Day</th>\n",
       "      <th>holiday_Memorial Day</th>\n",
       "      <th>...</th>\n",
       "      <th>weather_main_Clouds</th>\n",
       "      <th>weather_main_Drizzle</th>\n",
       "      <th>weather_main_Fog</th>\n",
       "      <th>weather_main_Haze</th>\n",
       "      <th>weather_main_Mist</th>\n",
       "      <th>weather_main_Rain</th>\n",
       "      <th>weather_main_Smoke</th>\n",
       "      <th>weather_main_Snow</th>\n",
       "      <th>weather_main_Squall</th>\n",
       "      <th>weather_main_Thunderstorm</th>\n",
       "    </tr>\n",
       "  </thead>\n",
       "  <tbody>\n",
       "    <tr>\n",
       "      <th>38197</th>\n",
       "      <td>0.997149</td>\n",
       "      <td>0.933156</td>\n",
       "      <td>1.363053</td>\n",
       "      <td>0.796073</td>\n",
       "      <td>0</td>\n",
       "      <td>0</td>\n",
       "      <td>0</td>\n",
       "      <td>0</td>\n",
       "      <td>0</td>\n",
       "      <td>0</td>\n",
       "      <td>...</td>\n",
       "      <td>1</td>\n",
       "      <td>0</td>\n",
       "      <td>0</td>\n",
       "      <td>0</td>\n",
       "      <td>0</td>\n",
       "      <td>0</td>\n",
       "      <td>0</td>\n",
       "      <td>0</td>\n",
       "      <td>0</td>\n",
       "      <td>0</td>\n",
       "    </tr>\n",
       "    <tr>\n",
       "      <th>28011</th>\n",
       "      <td>1.497418</td>\n",
       "      <td>1.508712</td>\n",
       "      <td>0.250755</td>\n",
       "      <td>-1.116772</td>\n",
       "      <td>0</td>\n",
       "      <td>0</td>\n",
       "      <td>0</td>\n",
       "      <td>0</td>\n",
       "      <td>0</td>\n",
       "      <td>0</td>\n",
       "      <td>...</td>\n",
       "      <td>0</td>\n",
       "      <td>0</td>\n",
       "      <td>0</td>\n",
       "      <td>0</td>\n",
       "      <td>0</td>\n",
       "      <td>0</td>\n",
       "      <td>0</td>\n",
       "      <td>0</td>\n",
       "      <td>0</td>\n",
       "      <td>0</td>\n",
       "    </tr>\n",
       "    <tr>\n",
       "      <th>15460</th>\n",
       "      <td>0.997149</td>\n",
       "      <td>-0.793512</td>\n",
       "      <td>0.332531</td>\n",
       "      <td>-1.116772</td>\n",
       "      <td>0</td>\n",
       "      <td>0</td>\n",
       "      <td>0</td>\n",
       "      <td>0</td>\n",
       "      <td>0</td>\n",
       "      <td>0</td>\n",
       "      <td>...</td>\n",
       "      <td>0</td>\n",
       "      <td>0</td>\n",
       "      <td>0</td>\n",
       "      <td>0</td>\n",
       "      <td>1</td>\n",
       "      <td>0</td>\n",
       "      <td>0</td>\n",
       "      <td>0</td>\n",
       "      <td>0</td>\n",
       "      <td>0</td>\n",
       "    </tr>\n",
       "    <tr>\n",
       "      <th>29578</th>\n",
       "      <td>-0.503660</td>\n",
       "      <td>-0.937401</td>\n",
       "      <td>0.648780</td>\n",
       "      <td>1.183811</td>\n",
       "      <td>0</td>\n",
       "      <td>0</td>\n",
       "      <td>0</td>\n",
       "      <td>0</td>\n",
       "      <td>0</td>\n",
       "      <td>0</td>\n",
       "      <td>...</td>\n",
       "      <td>0</td>\n",
       "      <td>0</td>\n",
       "      <td>0</td>\n",
       "      <td>0</td>\n",
       "      <td>1</td>\n",
       "      <td>0</td>\n",
       "      <td>0</td>\n",
       "      <td>0</td>\n",
       "      <td>0</td>\n",
       "      <td>0</td>\n",
       "    </tr>\n",
       "    <tr>\n",
       "      <th>9384</th>\n",
       "      <td>-1.003930</td>\n",
       "      <td>-0.217956</td>\n",
       "      <td>-2.160552</td>\n",
       "      <td>1.183811</td>\n",
       "      <td>0</td>\n",
       "      <td>0</td>\n",
       "      <td>0</td>\n",
       "      <td>0</td>\n",
       "      <td>0</td>\n",
       "      <td>0</td>\n",
       "      <td>...</td>\n",
       "      <td>1</td>\n",
       "      <td>0</td>\n",
       "      <td>0</td>\n",
       "      <td>0</td>\n",
       "      <td>0</td>\n",
       "      <td>0</td>\n",
       "      <td>0</td>\n",
       "      <td>0</td>\n",
       "      <td>0</td>\n",
       "      <td>0</td>\n",
       "    </tr>\n",
       "  </tbody>\n",
       "</table>\n",
       "<p>5 rows × 27 columns</p>\n",
       "</div>"
      ],
      "text/plain": [
       "       week_day      hour      temp  clouds_all  holiday_Christmas Day  \\\n",
       "38197  0.997149  0.933156  1.363053    0.796073                      0   \n",
       "28011  1.497418  1.508712  0.250755   -1.116772                      0   \n",
       "15460  0.997149 -0.793512  0.332531   -1.116772                      0   \n",
       "29578 -0.503660 -0.937401  0.648780    1.183811                      0   \n",
       "9384  -1.003930 -0.217956 -2.160552    1.183811                      0   \n",
       "\n",
       "       holiday_Columbus Day  holiday_Independence Day  holiday_Labor Day  \\\n",
       "38197                     0                         0                  0   \n",
       "28011                     0                         0                  0   \n",
       "15460                     0                         0                  0   \n",
       "29578                     0                         0                  0   \n",
       "9384                      0                         0                  0   \n",
       "\n",
       "       holiday_Martin Luther King Jr Day  holiday_Memorial Day  ...  \\\n",
       "38197                                  0                     0  ...   \n",
       "28011                                  0                     0  ...   \n",
       "15460                                  0                     0  ...   \n",
       "29578                                  0                     0  ...   \n",
       "9384                                   0                     0  ...   \n",
       "\n",
       "       weather_main_Clouds  weather_main_Drizzle  weather_main_Fog  \\\n",
       "38197                    1                     0                 0   \n",
       "28011                    0                     0                 0   \n",
       "15460                    0                     0                 0   \n",
       "29578                    0                     0                 0   \n",
       "9384                     1                     0                 0   \n",
       "\n",
       "       weather_main_Haze  weather_main_Mist  weather_main_Rain  \\\n",
       "38197                  0                  0                  0   \n",
       "28011                  0                  0                  0   \n",
       "15460                  0                  1                  0   \n",
       "29578                  0                  1                  0   \n",
       "9384                   0                  0                  0   \n",
       "\n",
       "       weather_main_Smoke  weather_main_Snow  weather_main_Squall  \\\n",
       "38197                   0                  0                    0   \n",
       "28011                   0                  0                    0   \n",
       "15460                   0                  0                    0   \n",
       "29578                   0                  0                    0   \n",
       "9384                    0                  0                    0   \n",
       "\n",
       "       weather_main_Thunderstorm  \n",
       "38197                          0  \n",
       "28011                          0  \n",
       "15460                          0  \n",
       "29578                          0  \n",
       "9384                           0  \n",
       "\n",
       "[5 rows x 27 columns]"
      ]
     },
     "execution_count": 6,
     "metadata": {},
     "output_type": "execute_result"
    }
   ],
   "source": [
    "xl.head()"
   ]
  },
  {
   "cell_type": "code",
   "execution_count": 8,
   "metadata": {},
   "outputs": [
    {
     "name": "stdout",
     "output_type": "stream",
     "text": [
      "Epoch 1/20\n",
      "30431/30431 [==============================] - 1s 34us/sample - loss: 0.8124 - acc: 0.6542\n",
      "Epoch 2/20\n",
      "30431/30431 [==============================] - 1s 33us/sample - loss: 0.6017 - acc: 0.7046\n",
      "Epoch 3/20\n",
      "30431/30431 [==============================] - 1s 33us/sample - loss: 0.4894 - acc: 0.7376\n",
      "Epoch 4/20\n",
      "30431/30431 [==============================] - 1s 34us/sample - loss: 0.4333 - acc: 0.7898\n",
      "Epoch 5/20\n",
      "30431/30431 [==============================] - 1s 33us/sample - loss: 0.3935 - acc: 0.8415\n",
      "Epoch 6/20\n",
      "30431/30431 [==============================] - 1s 34us/sample - loss: 0.3558 - acc: 0.8777\n",
      "Epoch 7/20\n",
      "30431/30431 [==============================] - 1s 33us/sample - loss: 0.3251 - acc: 0.8963\n",
      "Epoch 8/20\n",
      "30431/30431 [==============================] - 1s 33us/sample - loss: 0.3045 - acc: 0.9008\n",
      "Epoch 9/20\n",
      "30431/30431 [==============================] - 1s 33us/sample - loss: 0.2915 - acc: 0.9032\n",
      "Epoch 10/20\n",
      "30431/30431 [==============================] - 1s 34us/sample - loss: 0.2837 - acc: 0.9026\n",
      "Epoch 11/20\n",
      "30431/30431 [==============================] - 1s 34us/sample - loss: 0.2782 - acc: 0.9040\n",
      "Epoch 12/20\n",
      "30431/30431 [==============================] - 1s 33us/sample - loss: 0.2743 - acc: 0.9044\n",
      "Epoch 13/20\n",
      "30431/30431 [==============================] - 1s 34us/sample - loss: 0.2715 - acc: 0.9033\n",
      "Epoch 14/20\n",
      "30431/30431 [==============================] - 1s 34us/sample - loss: 0.2687 - acc: 0.9059\n",
      "Epoch 15/20\n",
      "30431/30431 [==============================] - 1s 34us/sample - loss: 0.2672 - acc: 0.9060\n",
      "Epoch 16/20\n",
      "30431/30431 [==============================] - 1s 34us/sample - loss: 0.2650 - acc: 0.9067\n",
      "Epoch 17/20\n",
      "30431/30431 [==============================] - 1s 37us/sample - loss: 0.2634 - acc: 0.9075\n",
      "Epoch 18/20\n",
      "30431/30431 [==============================] - 1s 36us/sample - loss: 0.2619 - acc: 0.9066\n",
      "Epoch 19/20\n",
      "30431/30431 [==============================] - 1s 35us/sample - loss: 0.2606 - acc: 0.9079\n",
      "Epoch 20/20\n",
      "30431/30431 [==============================] - 1s 35us/sample - loss: 0.2598 - acc: 0.9075\n"
     ]
    }
   ],
   "source": [
    "model = makeNeuralNetworkModel(xl, yl, epochs=20, layers=[(27, 'relu'), (10, 'sigmoid'), (3, 'softmax')])"
   ]
  },
  {
   "cell_type": "code",
   "execution_count": 10,
   "metadata": {},
   "outputs": [
    {
     "data": {
      "image/png": "[encoded data removed]",
      "text/plain": [
       "<Figure size 432x288 with 1 Axes>"
      ]
     },
     "metadata": {
      "needs_background": "light"
     },
     "output_type": "display_data"
    }
   ],
   "source": [
    "nnConfusionMatrix(model, xt, yt)"
   ]
  },
  {
   "cell_type": "code",
   "execution_count": 11,
   "metadata": {},
   "outputs": [
    {
     "data": {
      "text/plain": [
       "array([0.97117962, 0.88297187, 0.85697163])"
      ]
     },
     "execution_count": 11,
     "metadata": {},
     "output_type": "execute_result"
    }
   ],
   "source": [
    "precision_score(yt.values.ravel(), nnPredict(model, xt.values), average=None)"
   ]
  },
  {
   "cell_type": "code",
   "execution_count": 12,
   "metadata": {},
   "outputs": [
    {
     "data": {
      "text/plain": [
       "array([0.91679848, 0.90812721, 0.87372709])"
      ]
     },
     "execution_count": 12,
     "metadata": {},
     "output_type": "execute_result"
    }
   ],
   "source": [
    "recall_score(yt.values.ravel(), nnPredict(model, xt.values), average=None)"
   ]
  },
  {
   "cell_type": "code",
   "execution_count": 13,
   "metadata": {},
   "outputs": [
    {
     "data": {
      "text/plain": [
       "['Medium']"
      ]
     },
     "execution_count": 13,
     "metadata": {},
     "output_type": "execute_result"
    }
   ],
   "source": [
    "nnPredictLabels(model, xt.values[:1])"
   ]
  },
  {
   "cell_type": "code",
   "execution_count": 14,
   "metadata": {},
   "outputs": [
    {
     "data": {
      "text/plain": [
       "'Medium'"
      ]
     },
     "execution_count": 14,
     "metadata": {},
     "output_type": "execute_result"
    }
   ],
   "source": [
    "nnPredictionLabel(yt.values.ravel()[0])"
   ]
  },
  {
   "cell_type": "code",
   "execution_count": null,
   "metadata": {},
   "outputs": [],
   "source": []
  }
 ],
 "metadata": {
  "kernelspec": {
   "display_name": "Python 3",
   "language": "python",
   "name": "python3"
  },
  "language_info": {
   "codemirror_mode": {
    "name": "ipython",
    "version": 3
   },
   "file_extension": ".py",
   "mimetype": "text/x-python",
   "name": "python",
   "nbconvert_exporter": "python",
   "pygments_lexer": "ipython3",
   "version": "3.6.8"
  }
 },
 "nbformat": 4,
 "nbformat_minor": 2
}
