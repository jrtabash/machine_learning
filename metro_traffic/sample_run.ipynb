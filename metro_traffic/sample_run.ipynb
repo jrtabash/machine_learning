{
 "cells": [
  {
   "cell_type": "code",
   "execution_count": 31,
   "metadata": {},
   "outputs": [],
   "source": [
    "%matplotlib inline"
   ]
  },
  {
   "cell_type": "code",
   "execution_count": 32,
   "metadata": {},
   "outputs": [],
   "source": [
    "%run metro_traffic.py"
   ]
  },
  {
   "cell_type": "code",
   "execution_count": 33,
   "metadata": {},
   "outputs": [],
   "source": [
    "xl, xt, yl, yt = getDataForNeuralNetworkModel(standardScaler=True, squashHoliday=False, dropDescription=True)"
   ]
  },
  {
   "cell_type": "code",
   "execution_count": 34,
   "metadata": {},
   "outputs": [
    {
     "data": {
      "text/plain": [
       "27"
      ]
     },
     "execution_count": 34,
     "metadata": {},
     "output_type": "execute_result"
    }
   ],
   "source": [
    "len(xl.columns)"
   ]
  },
  {
   "cell_type": "code",
   "execution_count": 35,
   "metadata": {},
   "outputs": [
    {
     "data": {
      "text/html": [
       "<div>\n",
       "<style scoped>\n",
       "    .dataframe tbody tr th:only-of-type {\n",
       "        vertical-align: middle;\n",
       "    }\n",
       "\n",
       "    .dataframe tbody tr th {\n",
       "        vertical-align: top;\n",
       "    }\n",
       "\n",
       "    .dataframe thead th {\n",
       "        text-align: right;\n",
       "    }\n",
       "</style>\n",
       "<table border=\"1\" class=\"dataframe\">\n",
       "  <thead>\n",
       "    <tr style=\"text-align: right;\">\n",
       "      <th></th>\n",
       "      <th>week_day</th>\n",
       "      <th>hour</th>\n",
       "      <th>temp</th>\n",
       "      <th>clouds_all</th>\n",
       "      <th>holiday_Christmas Day</th>\n",
       "      <th>holiday_Columbus Day</th>\n",
       "      <th>holiday_Independence Day</th>\n",
       "      <th>holiday_Labor Day</th>\n",
       "      <th>holiday_Martin Luther King Jr Day</th>\n",
       "      <th>holiday_Memorial Day</th>\n",
       "      <th>...</th>\n",
       "      <th>weather_main_Clouds</th>\n",
       "      <th>weather_main_Drizzle</th>\n",
       "      <th>weather_main_Fog</th>\n",
       "      <th>weather_main_Haze</th>\n",
       "      <th>weather_main_Mist</th>\n",
       "      <th>weather_main_Rain</th>\n",
       "      <th>weather_main_Smoke</th>\n",
       "      <th>weather_main_Snow</th>\n",
       "      <th>weather_main_Squall</th>\n",
       "      <th>weather_main_Thunderstorm</th>\n",
       "    </tr>\n",
       "  </thead>\n",
       "  <tbody>\n",
       "    <tr>\n",
       "      <th>21597</th>\n",
       "      <td>-0.503660</td>\n",
       "      <td>0.069822</td>\n",
       "      <td>1.247988</td>\n",
       "      <td>1.183811</td>\n",
       "      <td>0</td>\n",
       "      <td>0</td>\n",
       "      <td>0</td>\n",
       "      <td>0</td>\n",
       "      <td>0</td>\n",
       "      <td>0</td>\n",
       "      <td>...</td>\n",
       "      <td>0</td>\n",
       "      <td>1</td>\n",
       "      <td>0</td>\n",
       "      <td>0</td>\n",
       "      <td>0</td>\n",
       "      <td>0</td>\n",
       "      <td>0</td>\n",
       "      <td>0</td>\n",
       "      <td>0</td>\n",
       "      <td>0</td>\n",
       "    </tr>\n",
       "    <tr>\n",
       "      <th>10509</th>\n",
       "      <td>-1.003930</td>\n",
       "      <td>-1.512957</td>\n",
       "      <td>-1.024372</td>\n",
       "      <td>-0.108651</td>\n",
       "      <td>0</td>\n",
       "      <td>0</td>\n",
       "      <td>0</td>\n",
       "      <td>0</td>\n",
       "      <td>0</td>\n",
       "      <td>0</td>\n",
       "      <td>...</td>\n",
       "      <td>1</td>\n",
       "      <td>0</td>\n",
       "      <td>0</td>\n",
       "      <td>0</td>\n",
       "      <td>0</td>\n",
       "      <td>0</td>\n",
       "      <td>0</td>\n",
       "      <td>0</td>\n",
       "      <td>0</td>\n",
       "      <td>0</td>\n",
       "    </tr>\n",
       "    <tr>\n",
       "      <th>26537</th>\n",
       "      <td>-1.504199</td>\n",
       "      <td>0.789267</td>\n",
       "      <td>0.378702</td>\n",
       "      <td>1.235510</td>\n",
       "      <td>0</td>\n",
       "      <td>0</td>\n",
       "      <td>0</td>\n",
       "      <td>0</td>\n",
       "      <td>0</td>\n",
       "      <td>0</td>\n",
       "      <td>...</td>\n",
       "      <td>0</td>\n",
       "      <td>0</td>\n",
       "      <td>0</td>\n",
       "      <td>0</td>\n",
       "      <td>0</td>\n",
       "      <td>1</td>\n",
       "      <td>0</td>\n",
       "      <td>0</td>\n",
       "      <td>0</td>\n",
       "      <td>0</td>\n",
       "    </tr>\n",
       "    <tr>\n",
       "      <th>17988</th>\n",
       "      <td>-0.503660</td>\n",
       "      <td>-1.225179</td>\n",
       "      <td>-0.991806</td>\n",
       "      <td>1.183811</td>\n",
       "      <td>0</td>\n",
       "      <td>0</td>\n",
       "      <td>0</td>\n",
       "      <td>0</td>\n",
       "      <td>0</td>\n",
       "      <td>0</td>\n",
       "      <td>...</td>\n",
       "      <td>0</td>\n",
       "      <td>0</td>\n",
       "      <td>0</td>\n",
       "      <td>0</td>\n",
       "      <td>1</td>\n",
       "      <td>0</td>\n",
       "      <td>0</td>\n",
       "      <td>0</td>\n",
       "      <td>0</td>\n",
       "      <td>0</td>\n",
       "    </tr>\n",
       "    <tr>\n",
       "      <th>7156</th>\n",
       "      <td>-0.503660</td>\n",
       "      <td>-1.512957</td>\n",
       "      <td>1.074305</td>\n",
       "      <td>-1.142621</td>\n",
       "      <td>0</td>\n",
       "      <td>0</td>\n",
       "      <td>0</td>\n",
       "      <td>0</td>\n",
       "      <td>0</td>\n",
       "      <td>0</td>\n",
       "      <td>...</td>\n",
       "      <td>0</td>\n",
       "      <td>0</td>\n",
       "      <td>0</td>\n",
       "      <td>0</td>\n",
       "      <td>0</td>\n",
       "      <td>0</td>\n",
       "      <td>0</td>\n",
       "      <td>0</td>\n",
       "      <td>0</td>\n",
       "      <td>0</td>\n",
       "    </tr>\n",
       "  </tbody>\n",
       "</table>\n",
       "<p>5 rows × 27 columns</p>\n",
       "</div>"
      ],
      "text/plain": [
       "       week_day      hour      temp  clouds_all  holiday_Christmas Day  \\\n",
       "21597 -0.503660  0.069822  1.247988    1.183811                      0   \n",
       "10509 -1.003930 -1.512957 -1.024372   -0.108651                      0   \n",
       "26537 -1.504199  0.789267  0.378702    1.235510                      0   \n",
       "17988 -0.503660 -1.225179 -0.991806    1.183811                      0   \n",
       "7156  -0.503660 -1.512957  1.074305   -1.142621                      0   \n",
       "\n",
       "       holiday_Columbus Day  holiday_Independence Day  holiday_Labor Day  \\\n",
       "21597                     0                         0                  0   \n",
       "10509                     0                         0                  0   \n",
       "26537                     0                         0                  0   \n",
       "17988                     0                         0                  0   \n",
       "7156                      0                         0                  0   \n",
       "\n",
       "       holiday_Martin Luther King Jr Day  holiday_Memorial Day  ...  \\\n",
       "21597                                  0                     0  ...   \n",
       "10509                                  0                     0  ...   \n",
       "26537                                  0                     0  ...   \n",
       "17988                                  0                     0  ...   \n",
       "7156                                   0                     0  ...   \n",
       "\n",
       "       weather_main_Clouds  weather_main_Drizzle  weather_main_Fog  \\\n",
       "21597                    0                     1                 0   \n",
       "10509                    1                     0                 0   \n",
       "26537                    0                     0                 0   \n",
       "17988                    0                     0                 0   \n",
       "7156                     0                     0                 0   \n",
       "\n",
       "       weather_main_Haze  weather_main_Mist  weather_main_Rain  \\\n",
       "21597                  0                  0                  0   \n",
       "10509                  0                  0                  0   \n",
       "26537                  0                  0                  1   \n",
       "17988                  0                  1                  0   \n",
       "7156                   0                  0                  0   \n",
       "\n",
       "       weather_main_Smoke  weather_main_Snow  weather_main_Squall  \\\n",
       "21597                   0                  0                    0   \n",
       "10509                   0                  0                    0   \n",
       "26537                   0                  0                    0   \n",
       "17988                   0                  0                    0   \n",
       "7156                    0                  0                    0   \n",
       "\n",
       "       weather_main_Thunderstorm  \n",
       "21597                          0  \n",
       "10509                          0  \n",
       "26537                          0  \n",
       "17988                          0  \n",
       "7156                           0  \n",
       "\n",
       "[5 rows x 27 columns]"
      ]
     },
     "execution_count": 35,
     "metadata": {},
     "output_type": "execute_result"
    }
   ],
   "source": [
    "xl.head()"
   ]
  },
  {
   "cell_type": "code",
   "execution_count": 36,
   "metadata": {},
   "outputs": [
    {
     "name": "stdout",
     "output_type": "stream",
     "text": [
      "Epoch 1/20\n",
      "30431/30431 [==============================] - 1s 42us/sample - loss: 0.7856 - acc: 0.6394\n",
      "Epoch 2/20\n",
      "30431/30431 [==============================] - 2s 51us/sample - loss: 0.5336 - acc: 0.7018\n",
      "Epoch 3/20\n",
      "30431/30431 [==============================] - 1s 47us/sample - loss: 0.4557 - acc: 0.7680\n",
      "Epoch 4/20\n",
      "30431/30431 [==============================] - 2s 59us/sample - loss: 0.4140 - acc: 0.8205\n",
      "Epoch 5/20\n",
      "30431/30431 [==============================] - 2s 53us/sample - loss: 0.3833 - acc: 0.8500\n",
      "Epoch 6/20\n",
      "30431/30431 [==============================] - 1s 42us/sample - loss: 0.3558 - acc: 0.8708\n",
      "Epoch 7/20\n",
      "30431/30431 [==============================] - 1s 42us/sample - loss: 0.3305 - acc: 0.8876\n",
      "Epoch 8/20\n",
      "30431/30431 [==============================] - 1s 42us/sample - loss: 0.3109 - acc: 0.8990\n",
      "Epoch 9/20\n",
      "30431/30431 [==============================] - 1s 42us/sample - loss: 0.2965 - acc: 0.9007\n",
      "Epoch 10/20\n",
      "30431/30431 [==============================] - 1s 43us/sample - loss: 0.2871 - acc: 0.9017\n",
      "Epoch 11/20\n",
      "30431/30431 [==============================] - 1s 43us/sample - loss: 0.2803 - acc: 0.9043\n",
      "Epoch 12/20\n",
      "30431/30431 [==============================] - 2s 80us/sample - loss: 0.2749 - acc: 0.9034\n",
      "Epoch 13/20\n",
      "30431/30431 [==============================] - 3s 91us/sample - loss: 0.2700 - acc: 0.9051\n",
      "Epoch 14/20\n",
      "30431/30431 [==============================] - 3s 84us/sample - loss: 0.2666 - acc: 0.9040\n",
      "Epoch 15/20\n",
      "30431/30431 [==============================] - 2s 79us/sample - loss: 0.2638 - acc: 0.9061\n",
      "Epoch 16/20\n",
      "30431/30431 [==============================] - 2s 79us/sample - loss: 0.2612 - acc: 0.9056\n",
      "Epoch 17/20\n",
      "30431/30431 [==============================] - 2s 79us/sample - loss: 0.2588 - acc: 0.9063\n",
      "Epoch 18/20\n",
      "30431/30431 [==============================] - 2s 80us/sample - loss: 0.2569 - acc: 0.9074\n",
      "Epoch 19/20\n",
      "30431/30431 [==============================] - 2s 81us/sample - loss: 0.2558 - acc: 0.9063\n",
      "Epoch 20/20\n",
      "30431/30431 [==============================] - 2s 81us/sample - loss: 0.2540 - acc: 0.9070\n"
     ]
    }
   ],
   "source": [
    "model = makeNeuralNetworkModel(xl, yl, epochs=20, layers=[(27, 'relu'), (10, 'sigmoid'), (3, 'softmax')])"
   ]
  },
  {
   "cell_type": "code",
   "execution_count": 37,
   "metadata": {},
   "outputs": [
    {
     "name": "stdout",
     "output_type": "stream",
     "text": [
      "10144/10144 [==============================] - 0s 44us/sample - loss: 0.2595 - acc: 0.9050\n"
     ]
    },
    {
     "data": {
      "text/plain": [
       "[0.2594766672876919, 0.90496844]"
      ]
     },
     "execution_count": 37,
     "metadata": {},
     "output_type": "execute_result"
    }
   ],
   "source": [
    "model.evaluate(xt.values, yt.values.ravel())"
   ]
  },
  {
   "cell_type": "code",
   "execution_count": 38,
   "metadata": {
    "scrolled": false
   },
   "outputs": [
    {
     "data": {
      "image/png": "[encoded data removed]",
      "text/plain": [
       "<Figure size 432x288 with 1 Axes>"
      ]
     },
     "metadata": {
      "needs_background": "light"
     },
     "output_type": "display_data"
    }
   ],
   "source": [
    "nnConfusionMatrix(model, xt, yt)"
   ]
  },
  {
   "cell_type": "code",
   "execution_count": 39,
   "metadata": {},
   "outputs": [
    {
     "data": {
      "text/plain": [
       "array([0.96001311, 0.899206  , 0.84955061])"
      ]
     },
     "execution_count": 39,
     "metadata": {},
     "output_type": "execute_result"
    }
   ],
   "source": [
    "precision_score(yt.values.ravel(), nnPredict(model, xt.values), average=None)"
   ]
  },
  {
   "cell_type": "code",
   "execution_count": 40,
   "metadata": {},
   "outputs": [
    {
     "data": {
      "text/plain": [
       "array([0.93013655, 0.89427506, 0.89244663])"
      ]
     },
     "execution_count": 40,
     "metadata": {},
     "output_type": "execute_result"
    }
   ],
   "source": [
    "recall_score(yt.values.ravel(), nnPredict(model, xt.values), average=None)"
   ]
  },
  {
   "cell_type": "code",
   "execution_count": 41,
   "metadata": {},
   "outputs": [
    {
     "data": {
      "text/plain": [
       "['Medium']"
      ]
     },
     "execution_count": 41,
     "metadata": {},
     "output_type": "execute_result"
    }
   ],
   "source": [
    "nnPredictLabels(model, xt.values[:1])"
   ]
  },
  {
   "cell_type": "code",
   "execution_count": 42,
   "metadata": {},
   "outputs": [
    {
     "data": {
      "text/plain": [
       "'Medium'"
      ]
     },
     "execution_count": 42,
     "metadata": {},
     "output_type": "execute_result"
    }
   ],
   "source": [
    "nnPredictionLabel(yt.values.ravel()[0])"
   ]
  }
 ],
 "metadata": {
  "kernelspec": {
   "display_name": "Python 3",
   "language": "python",
   "name": "python3"
  },
  "language_info": {
   "codemirror_mode": {
    "name": "ipython",
    "version": 3
   },
   "file_extension": ".py",
   "mimetype": "text/x-python",
   "name": "python",
   "nbconvert_exporter": "python",
   "pygments_lexer": "ipython3",
   "version": "3.6.8"
  }
 },
 "nbformat": 4,
 "nbformat_minor": 2
}
